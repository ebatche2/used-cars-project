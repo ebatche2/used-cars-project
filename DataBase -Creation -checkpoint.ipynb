{
 "cells": [
  {
   "cell_type": "code",
   "execution_count": 1,
   "id": "b84a493e",
   "metadata": {},
   "outputs": [],
   "source": [
    "import pandas as pd\n",
    "from pathlib import Path\n",
    "import json"
   ]
  },
  {
   "cell_type": "code",
   "execution_count": 2,
   "id": "340c7033",
   "metadata": {},
   "outputs": [],
   "source": [
    "#Create path for .csv file\n",
    "\n",
    "filename = Path(\"used_car_sales.csv\")"
   ]
  },
  {
   "cell_type": "code",
   "execution_count": 3,
   "id": "953e5c0c",
   "metadata": {},
   "outputs": [
    {
     "data": {
      "text/html": [
       "<div>\n",
       "<style scoped>\n",
       "    .dataframe tbody tr th:only-of-type {\n",
       "        vertical-align: middle;\n",
       "    }\n",
       "\n",
       "    .dataframe tbody tr th {\n",
       "        vertical-align: top;\n",
       "    }\n",
       "\n",
       "    .dataframe thead th {\n",
       "        text-align: right;\n",
       "    }\n",
       "</style>\n",
       "<table border=\"1\" class=\"dataframe\">\n",
       "  <thead>\n",
       "    <tr style=\"text-align: right;\">\n",
       "      <th></th>\n",
       "      <th>ID</th>\n",
       "      <th>pricesold</th>\n",
       "      <th>yearsold</th>\n",
       "      <th>zipcode</th>\n",
       "      <th>Mileage</th>\n",
       "      <th>Make</th>\n",
       "      <th>Model</th>\n",
       "      <th>Year</th>\n",
       "      <th>Trim</th>\n",
       "      <th>Engine</th>\n",
       "      <th>BodyType</th>\n",
       "      <th>NumCylinders</th>\n",
       "      <th>DriveType</th>\n",
       "    </tr>\n",
       "  </thead>\n",
       "  <tbody>\n",
       "    <tr>\n",
       "      <th>0</th>\n",
       "      <td>18489</td>\n",
       "      <td>2200</td>\n",
       "      <td>2019</td>\n",
       "      <td>32804</td>\n",
       "      <td>120583</td>\n",
       "      <td>300</td>\n",
       "      <td>CHRYSLER</td>\n",
       "      <td>2006</td>\n",
       "      <td>LIMITED</td>\n",
       "      <td>V-6</td>\n",
       "      <td>SEDAN</td>\n",
       "      <td>6</td>\n",
       "      <td>RWD</td>\n",
       "    </tr>\n",
       "    <tr>\n",
       "      <th>1</th>\n",
       "      <td>45848</td>\n",
       "      <td>6200</td>\n",
       "      <td>2019</td>\n",
       "      <td>11727</td>\n",
       "      <td>46292</td>\n",
       "      <td>2101</td>\n",
       "      <td>NaN</td>\n",
       "      <td>1977</td>\n",
       "      <td>NaN</td>\n",
       "      <td>NaN</td>\n",
       "      <td>Sedan</td>\n",
       "      <td>4</td>\n",
       "      <td>RWD</td>\n",
       "    </tr>\n",
       "    <tr>\n",
       "      <th>2</th>\n",
       "      <td>11937</td>\n",
       "      <td>13000</td>\n",
       "      <td>2019</td>\n",
       "      <td>89060</td>\n",
       "      <td>73000</td>\n",
       "      <td>1964 International</td>\n",
       "      <td>Scout 80</td>\n",
       "      <td>1964</td>\n",
       "      <td>NaN</td>\n",
       "      <td>stock</td>\n",
       "      <td>SUV</td>\n",
       "      <td>4</td>\n",
       "      <td>4WD</td>\n",
       "    </tr>\n",
       "    <tr>\n",
       "      <th>3</th>\n",
       "      <td>20524</td>\n",
       "      <td>98000</td>\n",
       "      <td>2019</td>\n",
       "      <td>70118</td>\n",
       "      <td>3568</td>\n",
       "      <td>AC</td>\n",
       "      <td>AUTOKRAFT MK IV</td>\n",
       "      <td>1988</td>\n",
       "      <td>AK1269 ALUMINUM BODY</td>\n",
       "      <td>302 HO</td>\n",
       "      <td>ALUMINUM</td>\n",
       "      <td>0</td>\n",
       "      <td>ROADSTER</td>\n",
       "    </tr>\n",
       "    <tr>\n",
       "      <th>4</th>\n",
       "      <td>3285</td>\n",
       "      <td>7900</td>\n",
       "      <td>2019</td>\n",
       "      <td>35565</td>\n",
       "      <td>100</td>\n",
       "      <td>AC Cobra</td>\n",
       "      <td>NaN</td>\n",
       "      <td>1965</td>\n",
       "      <td>NaN</td>\n",
       "      <td>V8</td>\n",
       "      <td>NaN</td>\n",
       "      <td>0</td>\n",
       "      <td>NaN</td>\n",
       "    </tr>\n",
       "  </tbody>\n",
       "</table>\n",
       "</div>"
      ],
      "text/plain": [
       "      ID  pricesold  yearsold zipcode  Mileage                Make  \\\n",
       "0  18489       2200      2019   32804   120583                 300   \n",
       "1  45848       6200      2019   11727    46292                2101   \n",
       "2  11937      13000      2019   89060    73000  1964 International   \n",
       "3  20524      98000      2019   70118     3568                  AC   \n",
       "4   3285       7900      2019   35565      100            AC Cobra   \n",
       "\n",
       "             Model  Year                  Trim  Engine  BodyType  \\\n",
       "0         CHRYSLER  2006               LIMITED     V-6     SEDAN   \n",
       "1              NaN  1977                   NaN     NaN     Sedan   \n",
       "2         Scout 80  1964                   NaN   stock       SUV   \n",
       "3  AUTOKRAFT MK IV  1988  AK1269 ALUMINUM BODY  302 HO  ALUMINUM   \n",
       "4              NaN  1965                   NaN      V8       NaN   \n",
       "\n",
       "   NumCylinders DriveType  \n",
       "0             6       RWD  \n",
       "1             4       RWD  \n",
       "2             4       4WD  \n",
       "3             0  ROADSTER  \n",
       "4             0       NaN  "
      ]
     },
     "execution_count": 3,
     "metadata": {},
     "output_type": "execute_result"
    }
   ],
   "source": [
    "ModelandMake_df = pd.read_csv(filename)\n",
    "ModelandMake_df.head()"
   ]
  },
  {
   "cell_type": "code",
   "execution_count": 4,
   "id": "a4cb546b",
   "metadata": {},
   "outputs": [
    {
     "data": {
      "text/plain": [
       "Index(['ID', 'pricesold', 'yearsold', 'zipcode', 'Mileage', 'Make', 'Model',\n",
       "       'Year', 'Trim', 'Engine', 'BodyType', 'NumCylinders', 'DriveType'],\n",
       "      dtype='object')"
      ]
     },
     "execution_count": 4,
     "metadata": {},
     "output_type": "execute_result"
    }
   ],
   "source": [
    "ModelandMake_df.columns"
   ]
  },
  {
   "cell_type": "code",
   "execution_count": 5,
   "id": "e4547c4d",
   "metadata": {},
   "outputs": [],
   "source": [
    "ModelandMake_df.drop(['ID', 'pricesold', 'yearsold', 'Mileage', 'Year', 'Trim', 'Engine', 'BodyType', 'NumCylinders', 'DriveType','zipcode'], axis=1, inplace=True)\n"
   ]
  },
  {
   "cell_type": "code",
   "execution_count": 6,
   "id": "cd8b5d6c",
   "metadata": {},
   "outputs": [
    {
     "data": {
      "text/html": [
       "<div>\n",
       "<style scoped>\n",
       "    .dataframe tbody tr th:only-of-type {\n",
       "        vertical-align: middle;\n",
       "    }\n",
       "\n",
       "    .dataframe tbody tr th {\n",
       "        vertical-align: top;\n",
       "    }\n",
       "\n",
       "    .dataframe thead th {\n",
       "        text-align: right;\n",
       "    }\n",
       "</style>\n",
       "<table border=\"1\" class=\"dataframe\">\n",
       "  <thead>\n",
       "    <tr style=\"text-align: right;\">\n",
       "      <th></th>\n",
       "      <th>Make</th>\n",
       "      <th>Model</th>\n",
       "    </tr>\n",
       "  </thead>\n",
       "  <tbody>\n",
       "    <tr>\n",
       "      <th>0</th>\n",
       "      <td>300</td>\n",
       "      <td>CHRYSLER</td>\n",
       "    </tr>\n",
       "    <tr>\n",
       "      <th>1</th>\n",
       "      <td>2101</td>\n",
       "      <td>NaN</td>\n",
       "    </tr>\n",
       "    <tr>\n",
       "      <th>2</th>\n",
       "      <td>1964 International</td>\n",
       "      <td>Scout 80</td>\n",
       "    </tr>\n",
       "    <tr>\n",
       "      <th>3</th>\n",
       "      <td>AC</td>\n",
       "      <td>AUTOKRAFT MK IV</td>\n",
       "    </tr>\n",
       "    <tr>\n",
       "      <th>4</th>\n",
       "      <td>AC Cobra</td>\n",
       "      <td>NaN</td>\n",
       "    </tr>\n",
       "  </tbody>\n",
       "</table>\n",
       "</div>"
      ],
      "text/plain": [
       "                 Make            Model\n",
       "0                 300         CHRYSLER\n",
       "1                2101              NaN\n",
       "2  1964 International         Scout 80\n",
       "3                  AC  AUTOKRAFT MK IV\n",
       "4            AC Cobra              NaN"
      ]
     },
     "execution_count": 6,
     "metadata": {},
     "output_type": "execute_result"
    }
   ],
   "source": [
    "ModelandMake_df.head()"
   ]
  },
  {
   "cell_type": "code",
   "execution_count": 7,
   "id": "4d4ab634",
   "metadata": {},
   "outputs": [],
   "source": [
    "ModelandMake_df.dropna(subset=['Make', 'Model'], inplace=True)"
   ]
  },
  {
   "cell_type": "code",
   "execution_count": 8,
   "id": "5c6d0b07",
   "metadata": {},
   "outputs": [
    {
     "data": {
      "text/html": [
       "<div>\n",
       "<style scoped>\n",
       "    .dataframe tbody tr th:only-of-type {\n",
       "        vertical-align: middle;\n",
       "    }\n",
       "\n",
       "    .dataframe tbody tr th {\n",
       "        vertical-align: top;\n",
       "    }\n",
       "\n",
       "    .dataframe thead th {\n",
       "        text-align: right;\n",
       "    }\n",
       "</style>\n",
       "<table border=\"1\" class=\"dataframe\">\n",
       "  <thead>\n",
       "    <tr style=\"text-align: right;\">\n",
       "      <th></th>\n",
       "      <th>Make</th>\n",
       "      <th>Model</th>\n",
       "    </tr>\n",
       "  </thead>\n",
       "  <tbody>\n",
       "    <tr>\n",
       "      <th>0</th>\n",
       "      <td>300</td>\n",
       "      <td>CHRYSLER</td>\n",
       "    </tr>\n",
       "    <tr>\n",
       "      <th>2</th>\n",
       "      <td>1964 International</td>\n",
       "      <td>Scout 80</td>\n",
       "    </tr>\n",
       "    <tr>\n",
       "      <th>3</th>\n",
       "      <td>AC</td>\n",
       "      <td>AUTOKRAFT MK IV</td>\n",
       "    </tr>\n",
       "    <tr>\n",
       "      <th>5</th>\n",
       "      <td>Acura</td>\n",
       "      <td>CL</td>\n",
       "    </tr>\n",
       "    <tr>\n",
       "      <th>6</th>\n",
       "      <td>Acura</td>\n",
       "      <td>CL</td>\n",
       "    </tr>\n",
       "  </tbody>\n",
       "</table>\n",
       "</div>"
      ],
      "text/plain": [
       "                 Make            Model\n",
       "0                 300         CHRYSLER\n",
       "2  1964 International         Scout 80\n",
       "3                  AC  AUTOKRAFT MK IV\n",
       "5               Acura               CL\n",
       "6               Acura               CL"
      ]
     },
     "execution_count": 8,
     "metadata": {},
     "output_type": "execute_result"
    }
   ],
   "source": [
    "ModelandMake_df.head()"
   ]
  },
  {
   "cell_type": "code",
   "execution_count": 9,
   "id": "bd832e2e",
   "metadata": {},
   "outputs": [
    {
     "name": "stdout",
     "output_type": "stream",
     "text": [
      "Make\n",
      "Ford             22025\n",
      "Chevrolet        21171\n",
      "Toyota            6676\n",
      "Mercedes-Benz     6240\n",
      "Dodge             5896\n",
      "BMW               5128\n",
      "Jeep              4543\n",
      "Cadillac          3656\n",
      "Volkswagen        3589\n",
      "Honda             3448\n",
      "Pontiac           2711\n",
      "GMC               2535\n",
      "Nissan            2507\n",
      "Porsche           2228\n",
      "Lincoln           1860\n",
      "Buick             1817\n",
      "Audi              1520\n",
      "Chrysler          1486\n",
      "Jaguar            1322\n",
      "Subaru            1311\n",
      "Name: count, dtype: int64\n"
     ]
    }
   ],
   "source": [
    "top_20_makes = ModelandMake_df['Make'].value_counts().head(20)\n",
    "print(top_20_makes)"
   ]
  },
  {
   "cell_type": "code",
   "execution_count": 10,
   "id": "7200803a",
   "metadata": {},
   "outputs": [],
   "source": [
    "top_20_makes = ModelandMake_df['Make'].value_counts().head(20).index\n",
    "ModelandMake_df = ModelandMake_df[ModelandMake_df['Make'].isin(top_20_makes)]"
   ]
  },
  {
   "cell_type": "code",
   "execution_count": 11,
   "id": "5e4b2111",
   "metadata": {},
   "outputs": [
    {
     "data": {
      "text/html": [
       "<div>\n",
       "<style scoped>\n",
       "    .dataframe tbody tr th:only-of-type {\n",
       "        vertical-align: middle;\n",
       "    }\n",
       "\n",
       "    .dataframe tbody tr th {\n",
       "        vertical-align: top;\n",
       "    }\n",
       "\n",
       "    .dataframe thead th {\n",
       "        text-align: right;\n",
       "    }\n",
       "</style>\n",
       "<table border=\"1\" class=\"dataframe\">\n",
       "  <thead>\n",
       "    <tr style=\"text-align: right;\">\n",
       "      <th></th>\n",
       "      <th>Make</th>\n",
       "      <th>Model</th>\n",
       "    </tr>\n",
       "  </thead>\n",
       "  <tbody>\n",
       "    <tr>\n",
       "      <th>1370</th>\n",
       "      <td>Audi</td>\n",
       "      <td>80</td>\n",
       "    </tr>\n",
       "    <tr>\n",
       "      <th>1371</th>\n",
       "      <td>Audi</td>\n",
       "      <td>90</td>\n",
       "    </tr>\n",
       "    <tr>\n",
       "      <th>1372</th>\n",
       "      <td>Audi</td>\n",
       "      <td>90</td>\n",
       "    </tr>\n",
       "    <tr>\n",
       "      <th>1373</th>\n",
       "      <td>Audi</td>\n",
       "      <td>90</td>\n",
       "    </tr>\n",
       "    <tr>\n",
       "      <th>1374</th>\n",
       "      <td>Audi</td>\n",
       "      <td>90</td>\n",
       "    </tr>\n",
       "  </tbody>\n",
       "</table>\n",
       "</div>"
      ],
      "text/plain": [
       "      Make Model\n",
       "1370  Audi    80\n",
       "1371  Audi    90\n",
       "1372  Audi    90\n",
       "1373  Audi    90\n",
       "1374  Audi    90"
      ]
     },
     "execution_count": 11,
     "metadata": {},
     "output_type": "execute_result"
    }
   ],
   "source": [
    "ModelandMake_df.head()"
   ]
  },
  {
   "cell_type": "code",
   "execution_count": 12,
   "id": "77b9a5bb",
   "metadata": {},
   "outputs": [
    {
     "data": {
      "text/plain": [
       "Make\n",
       "Ford             22025\n",
       "Chevrolet        21171\n",
       "Toyota            6676\n",
       "Mercedes-Benz     6240\n",
       "Dodge             5896\n",
       "BMW               5128\n",
       "Jeep              4543\n",
       "Cadillac          3656\n",
       "Volkswagen        3589\n",
       "Honda             3448\n",
       "Pontiac           2711\n",
       "GMC               2535\n",
       "Nissan            2507\n",
       "Porsche           2228\n",
       "Lincoln           1860\n",
       "Buick             1817\n",
       "Audi              1520\n",
       "Chrysler          1486\n",
       "Jaguar            1322\n",
       "Subaru            1311\n",
       "Name: count, dtype: int64"
      ]
     },
     "execution_count": 12,
     "metadata": {},
     "output_type": "execute_result"
    }
   ],
   "source": [
    "top_makes = ModelandMake_df['Make'].value_counts().head(20)\n",
    "top_makes "
   ]
  },
  {
   "cell_type": "code",
   "execution_count": 32,
   "id": "1d438cae",
   "metadata": {},
   "outputs": [],
   "source": [
    "ModelandMake_df.to_csv('DataBase.csv', index=False)"
   ]
  },
  {
   "cell_type": "code",
   "execution_count": 15,
   "id": "3c3c679b",
   "metadata": {},
   "outputs": [],
   "source": [
    "ModelandMake_df.to_json('DataBase.json', orient='split')"
   ]
  },
  {
   "cell_type": "code",
   "execution_count": null,
   "id": "ea9a51d8",
   "metadata": {},
   "outputs": [],
   "source": []
  }
 ],
 "metadata": {
  "kernelspec": {
   "display_name": "Python 3 (ipykernel)",
   "language": "python",
   "name": "python3"
  },
  "language_info": {
   "codemirror_mode": {
    "name": "ipython",
    "version": 3
   },
   "file_extension": ".py",
   "mimetype": "text/x-python",
   "name": "python",
   "nbconvert_exporter": "python",
   "pygments_lexer": "ipython3",
   "version": "3.10.9"
  }
 },
 "nbformat": 4,
 "nbformat_minor": 5
}
