{
 "cells": [
  {
   "cell_type": "code",
   "execution_count": 1,
   "id": "9e6d5a32",
   "metadata": {},
   "outputs": [],
   "source": [
    "import pandas as pd\n",
    "from pathlib import Path\n",
    "import matplotlib.pyplot as plt\n",
    "from scipy.stats import linregress"
   ]
  },
  {
   "cell_type": "code",
   "execution_count": 2,
   "id": "4110579b",
   "metadata": {},
   "outputs": [],
   "source": [
    "#Create path for .csv file\n",
    "\n",
    "filename = Path(\"used_car_sales.csv\")"
   ]
  },
  {
   "cell_type": "code",
   "execution_count": 3,
   "id": "9d615e2f",
   "metadata": {},
   "outputs": [
    {
     "data": {
      "text/html": [
       "<div>\n",
       "<style scoped>\n",
       "    .dataframe tbody tr th:only-of-type {\n",
       "        vertical-align: middle;\n",
       "    }\n",
       "\n",
       "    .dataframe tbody tr th {\n",
       "        vertical-align: top;\n",
       "    }\n",
       "\n",
       "    .dataframe thead th {\n",
       "        text-align: right;\n",
       "    }\n",
       "</style>\n",
       "<table border=\"1\" class=\"dataframe\">\n",
       "  <thead>\n",
       "    <tr style=\"text-align: right;\">\n",
       "      <th></th>\n",
       "      <th>ID</th>\n",
       "      <th>pricesold</th>\n",
       "      <th>yearsold</th>\n",
       "      <th>zipcode</th>\n",
       "      <th>Mileage</th>\n",
       "      <th>Make</th>\n",
       "      <th>Model</th>\n",
       "      <th>Year</th>\n",
       "      <th>Trim</th>\n",
       "      <th>Engine</th>\n",
       "      <th>BodyType</th>\n",
       "      <th>NumCylinders</th>\n",
       "      <th>DriveType</th>\n",
       "    </tr>\n",
       "  </thead>\n",
       "  <tbody>\n",
       "    <tr>\n",
       "      <th>0</th>\n",
       "      <td>18489</td>\n",
       "      <td>2200</td>\n",
       "      <td>2019</td>\n",
       "      <td>32804</td>\n",
       "      <td>120583</td>\n",
       "      <td>300</td>\n",
       "      <td>CHRYSLER</td>\n",
       "      <td>2006</td>\n",
       "      <td>LIMITED</td>\n",
       "      <td>V-6</td>\n",
       "      <td>SEDAN</td>\n",
       "      <td>6</td>\n",
       "      <td>RWD</td>\n",
       "    </tr>\n",
       "    <tr>\n",
       "      <th>1</th>\n",
       "      <td>45848</td>\n",
       "      <td>6200</td>\n",
       "      <td>2019</td>\n",
       "      <td>11727</td>\n",
       "      <td>46292</td>\n",
       "      <td>2101</td>\n",
       "      <td>NaN</td>\n",
       "      <td>1977</td>\n",
       "      <td>NaN</td>\n",
       "      <td>NaN</td>\n",
       "      <td>Sedan</td>\n",
       "      <td>4</td>\n",
       "      <td>RWD</td>\n",
       "    </tr>\n",
       "    <tr>\n",
       "      <th>2</th>\n",
       "      <td>11937</td>\n",
       "      <td>13000</td>\n",
       "      <td>2019</td>\n",
       "      <td>89060</td>\n",
       "      <td>73000</td>\n",
       "      <td>1964 International</td>\n",
       "      <td>Scout 80</td>\n",
       "      <td>1964</td>\n",
       "      <td>NaN</td>\n",
       "      <td>stock</td>\n",
       "      <td>SUV</td>\n",
       "      <td>4</td>\n",
       "      <td>4WD</td>\n",
       "    </tr>\n",
       "    <tr>\n",
       "      <th>3</th>\n",
       "      <td>20524</td>\n",
       "      <td>98000</td>\n",
       "      <td>2019</td>\n",
       "      <td>70118</td>\n",
       "      <td>3568</td>\n",
       "      <td>AC</td>\n",
       "      <td>AUTOKRAFT MK IV</td>\n",
       "      <td>1988</td>\n",
       "      <td>AK1269 ALUMINUM BODY</td>\n",
       "      <td>302 HO</td>\n",
       "      <td>ALUMINUM</td>\n",
       "      <td>0</td>\n",
       "      <td>ROADSTER</td>\n",
       "    </tr>\n",
       "    <tr>\n",
       "      <th>4</th>\n",
       "      <td>3285</td>\n",
       "      <td>7900</td>\n",
       "      <td>2019</td>\n",
       "      <td>35565</td>\n",
       "      <td>100</td>\n",
       "      <td>AC Cobra</td>\n",
       "      <td>NaN</td>\n",
       "      <td>1965</td>\n",
       "      <td>NaN</td>\n",
       "      <td>V8</td>\n",
       "      <td>NaN</td>\n",
       "      <td>0</td>\n",
       "      <td>NaN</td>\n",
       "    </tr>\n",
       "  </tbody>\n",
       "</table>\n",
       "</div>"
      ],
      "text/plain": [
       "      ID  pricesold  yearsold zipcode  Mileage                Make  \\\n",
       "0  18489       2200      2019   32804   120583                 300   \n",
       "1  45848       6200      2019   11727    46292                2101   \n",
       "2  11937      13000      2019   89060    73000  1964 International   \n",
       "3  20524      98000      2019   70118     3568                  AC   \n",
       "4   3285       7900      2019   35565      100            AC Cobra   \n",
       "\n",
       "             Model  Year                  Trim  Engine  BodyType  \\\n",
       "0         CHRYSLER  2006               LIMITED     V-6     SEDAN   \n",
       "1              NaN  1977                   NaN     NaN     Sedan   \n",
       "2         Scout 80  1964                   NaN   stock       SUV   \n",
       "3  AUTOKRAFT MK IV  1988  AK1269 ALUMINUM BODY  302 HO  ALUMINUM   \n",
       "4              NaN  1965                   NaN      V8       NaN   \n",
       "\n",
       "   NumCylinders DriveType  \n",
       "0             6       RWD  \n",
       "1             4       RWD  \n",
       "2             4       4WD  \n",
       "3             0  ROADSTER  \n",
       "4             0       NaN  "
      ]
     },
     "execution_count": 3,
     "metadata": {},
     "output_type": "execute_result"
    }
   ],
   "source": [
    "used_car_predictions_df = pd.read_csv(filename)\n",
    "used_car_predictions_df.head()"
   ]
  },
  {
   "cell_type": "code",
   "execution_count": 4,
   "id": "b46c75ec",
   "metadata": {},
   "outputs": [
    {
     "data": {
      "text/plain": [
       "Index(['ID', 'pricesold', 'yearsold', 'zipcode', 'Mileage', 'Make', 'Model',\n",
       "       'Year', 'Trim', 'Engine', 'BodyType', 'NumCylinders', 'DriveType'],\n",
       "      dtype='object')"
      ]
     },
     "execution_count": 4,
     "metadata": {},
     "output_type": "execute_result"
    }
   ],
   "source": [
    "#Print out all columns \n",
    "\n",
    "used_car_predictions_df.columns"
   ]
  },
  {
   "cell_type": "code",
   "execution_count": 5,
   "id": "5810b3ab",
   "metadata": {},
   "outputs": [
    {
     "name": "stdout",
     "output_type": "stream",
     "text": [
      "ID\n",
      "Price_Sold\n",
      "Year_Sold\n",
      "Zipcode\n",
      "Mileage\n",
      "Make\n",
      "Model\n",
      "Year\n",
      "Trim\n",
      "Engine_Type\n",
      "Body_Type\n",
      "Number_of_Cylinders\n",
      "Drive_Type\n"
     ]
    }
   ],
   "source": [
    "#Rename columns\n",
    "\n",
    "used_car_predictions_df.rename(columns={\n",
    "    'ID': 'ID',\n",
    "    'pricesold': 'Price_Sold',\n",
    "    'yearsold': 'Year_Sold',\n",
    "    'zipcode': 'Zipcode',\n",
    "    'Mileage': 'Mileage',\n",
    "    'Make': 'Make',\n",
    "    'Model': 'Model',\n",
    "    'Engine': 'Engine_Type',\n",
    "    'BodyType': 'Body_Type',\n",
    "    'NumCylinders':'Number_of_Cylinders',\n",
    "    'DriveType': 'Drive_Type',        \n",
    "                  }, inplace=True)\n",
    "columns = used_car_predictions_df.columns\n",
    "for column in columns:\n",
    "    print (column)"
   ]
  },
  {
   "cell_type": "code",
   "execution_count": 6,
   "id": "2e2a931e",
   "metadata": {},
   "outputs": [
    {
     "data": {
      "text/plain": [
       "ID                      int64\n",
       "Price_Sold              int64\n",
       "Year_Sold               int64\n",
       "Zipcode                object\n",
       "Mileage                 int64\n",
       "Make                   object\n",
       "Model                  object\n",
       "Year                    int64\n",
       "Trim                   object\n",
       "Engine_Type            object\n",
       "Body_Type              object\n",
       "Number_of_Cylinders     int64\n",
       "Drive_Type             object\n",
       "dtype: object"
      ]
     },
     "execution_count": 6,
     "metadata": {},
     "output_type": "execute_result"
    }
   ],
   "source": [
    "used_car_predictions_df.dtypes"
   ]
  },
  {
   "cell_type": "code",
   "execution_count": 7,
   "id": "e9cb9e43",
   "metadata": {},
   "outputs": [
    {
     "ename": "KeyError",
     "evalue": "'zipcode'",
     "output_type": "error",
     "traceback": [
      "\u001b[0;31m---------------------------------------------------------------------------\u001b[0m",
      "\u001b[0;31mKeyError\u001b[0m                                  Traceback (most recent call last)",
      "File \u001b[0;32m~/anaconda3/lib/python3.10/site-packages/pandas/core/indexes/base.py:3802\u001b[0m, in \u001b[0;36mIndex.get_loc\u001b[0;34m(self, key, method, tolerance)\u001b[0m\n\u001b[1;32m   3801\u001b[0m \u001b[38;5;28;01mtry\u001b[39;00m:\n\u001b[0;32m-> 3802\u001b[0m     \u001b[38;5;28;01mreturn\u001b[39;00m \u001b[38;5;28;43mself\u001b[39;49m\u001b[38;5;241;43m.\u001b[39;49m\u001b[43m_engine\u001b[49m\u001b[38;5;241;43m.\u001b[39;49m\u001b[43mget_loc\u001b[49m\u001b[43m(\u001b[49m\u001b[43mcasted_key\u001b[49m\u001b[43m)\u001b[49m\n\u001b[1;32m   3803\u001b[0m \u001b[38;5;28;01mexcept\u001b[39;00m \u001b[38;5;167;01mKeyError\u001b[39;00m \u001b[38;5;28;01mas\u001b[39;00m err:\n",
      "File \u001b[0;32m~/anaconda3/lib/python3.10/site-packages/pandas/_libs/index.pyx:138\u001b[0m, in \u001b[0;36mpandas._libs.index.IndexEngine.get_loc\u001b[0;34m()\u001b[0m\n",
      "File \u001b[0;32m~/anaconda3/lib/python3.10/site-packages/pandas/_libs/index.pyx:165\u001b[0m, in \u001b[0;36mpandas._libs.index.IndexEngine.get_loc\u001b[0;34m()\u001b[0m\n",
      "File \u001b[0;32mpandas/_libs/hashtable_class_helper.pxi:5745\u001b[0m, in \u001b[0;36mpandas._libs.hashtable.PyObjectHashTable.get_item\u001b[0;34m()\u001b[0m\n",
      "File \u001b[0;32mpandas/_libs/hashtable_class_helper.pxi:5753\u001b[0m, in \u001b[0;36mpandas._libs.hashtable.PyObjectHashTable.get_item\u001b[0;34m()\u001b[0m\n",
      "\u001b[0;31mKeyError\u001b[0m: 'zipcode'",
      "\nThe above exception was the direct cause of the following exception:\n",
      "\u001b[0;31mKeyError\u001b[0m                                  Traceback (most recent call last)",
      "Cell \u001b[0;32mIn[7], line 3\u001b[0m\n\u001b[1;32m      1\u001b[0m \u001b[38;5;66;03m#Determine the number of cars with zipcodes that contain \"*\"\u001b[39;00m\n\u001b[0;32m----> 3\u001b[0m count \u001b[38;5;241m=\u001b[39m (\u001b[43mused_car_predictions_df\u001b[49m\u001b[43m[\u001b[49m\u001b[38;5;124;43m'\u001b[39;49m\u001b[38;5;124;43mzipcode\u001b[39;49m\u001b[38;5;124;43m'\u001b[39;49m\u001b[43m]\u001b[49m\u001b[38;5;241m.\u001b[39mstr\u001b[38;5;241m.\u001b[39mcontains(\u001b[38;5;124m'\u001b[39m\u001b[38;5;124m\\\u001b[39m\u001b[38;5;124m*\u001b[39m\u001b[38;5;124m\\\u001b[39m\u001b[38;5;124m*\u001b[39m\u001b[38;5;124m'\u001b[39m, regex\u001b[38;5;241m=\u001b[39m\u001b[38;5;28;01mTrue\u001b[39;00m))\u001b[38;5;241m.\u001b[39msum()\n\u001b[1;32m      5\u001b[0m \u001b[38;5;28mprint\u001b[39m(count)\n",
      "File \u001b[0;32m~/anaconda3/lib/python3.10/site-packages/pandas/core/frame.py:3807\u001b[0m, in \u001b[0;36mDataFrame.__getitem__\u001b[0;34m(self, key)\u001b[0m\n\u001b[1;32m   3805\u001b[0m \u001b[38;5;28;01mif\u001b[39;00m \u001b[38;5;28mself\u001b[39m\u001b[38;5;241m.\u001b[39mcolumns\u001b[38;5;241m.\u001b[39mnlevels \u001b[38;5;241m>\u001b[39m \u001b[38;5;241m1\u001b[39m:\n\u001b[1;32m   3806\u001b[0m     \u001b[38;5;28;01mreturn\u001b[39;00m \u001b[38;5;28mself\u001b[39m\u001b[38;5;241m.\u001b[39m_getitem_multilevel(key)\n\u001b[0;32m-> 3807\u001b[0m indexer \u001b[38;5;241m=\u001b[39m \u001b[38;5;28;43mself\u001b[39;49m\u001b[38;5;241;43m.\u001b[39;49m\u001b[43mcolumns\u001b[49m\u001b[38;5;241;43m.\u001b[39;49m\u001b[43mget_loc\u001b[49m\u001b[43m(\u001b[49m\u001b[43mkey\u001b[49m\u001b[43m)\u001b[49m\n\u001b[1;32m   3808\u001b[0m \u001b[38;5;28;01mif\u001b[39;00m is_integer(indexer):\n\u001b[1;32m   3809\u001b[0m     indexer \u001b[38;5;241m=\u001b[39m [indexer]\n",
      "File \u001b[0;32m~/anaconda3/lib/python3.10/site-packages/pandas/core/indexes/base.py:3804\u001b[0m, in \u001b[0;36mIndex.get_loc\u001b[0;34m(self, key, method, tolerance)\u001b[0m\n\u001b[1;32m   3802\u001b[0m     \u001b[38;5;28;01mreturn\u001b[39;00m \u001b[38;5;28mself\u001b[39m\u001b[38;5;241m.\u001b[39m_engine\u001b[38;5;241m.\u001b[39mget_loc(casted_key)\n\u001b[1;32m   3803\u001b[0m \u001b[38;5;28;01mexcept\u001b[39;00m \u001b[38;5;167;01mKeyError\u001b[39;00m \u001b[38;5;28;01mas\u001b[39;00m err:\n\u001b[0;32m-> 3804\u001b[0m     \u001b[38;5;28;01mraise\u001b[39;00m \u001b[38;5;167;01mKeyError\u001b[39;00m(key) \u001b[38;5;28;01mfrom\u001b[39;00m \u001b[38;5;21;01merr\u001b[39;00m\n\u001b[1;32m   3805\u001b[0m \u001b[38;5;28;01mexcept\u001b[39;00m \u001b[38;5;167;01mTypeError\u001b[39;00m:\n\u001b[1;32m   3806\u001b[0m     \u001b[38;5;66;03m# If we have a listlike key, _check_indexing_error will raise\u001b[39;00m\n\u001b[1;32m   3807\u001b[0m     \u001b[38;5;66;03m#  InvalidIndexError. Otherwise we fall through and re-raise\u001b[39;00m\n\u001b[1;32m   3808\u001b[0m     \u001b[38;5;66;03m#  the TypeError.\u001b[39;00m\n\u001b[1;32m   3809\u001b[0m     \u001b[38;5;28mself\u001b[39m\u001b[38;5;241m.\u001b[39m_check_indexing_error(key)\n",
      "\u001b[0;31mKeyError\u001b[0m: 'zipcode'"
     ]
    }
   ],
   "source": [
    "#Determine the number of cars with zipcodes that contain \"*\"\n",
    "\n",
    "count = (used_car_predictions_df['zipcode'].str.contains('\\*\\*', regex=True)).sum()\n",
    "\n",
    "print(count)"
   ]
  },
  {
   "cell_type": "code",
   "execution_count": null,
   "id": "583e48f2",
   "metadata": {},
   "outputs": [],
   "source": [
    "#Determine the amount of 'Make' column with null values. \n",
    "\n",
    "null_count = used_car_predictions_df['Make'].isnull().sum()\n",
    "\n",
    "print(null_count)"
   ]
  },
  {
   "cell_type": "code",
   "execution_count": 8,
   "id": "eff15406",
   "metadata": {},
   "outputs": [
    {
     "name": "stdout",
     "output_type": "stream",
     "text": [
      "573\n"
     ]
    }
   ],
   "source": [
    "#Determine the amount of 'Model' column with null values. \n",
    "\n",
    "null_count = used_car_predictions_df['Model'].isnull().sum()\n",
    "\n",
    "print(null_count)"
   ]
  },
  {
   "cell_type": "code",
   "execution_count": 9,
   "id": "c5c58360",
   "metadata": {},
   "outputs": [
    {
     "data": {
      "text/html": [
       "<div>\n",
       "<style scoped>\n",
       "    .dataframe tbody tr th:only-of-type {\n",
       "        vertical-align: middle;\n",
       "    }\n",
       "\n",
       "    .dataframe tbody tr th {\n",
       "        vertical-align: top;\n",
       "    }\n",
       "\n",
       "    .dataframe thead th {\n",
       "        text-align: right;\n",
       "    }\n",
       "</style>\n",
       "<table border=\"1\" class=\"dataframe\">\n",
       "  <thead>\n",
       "    <tr style=\"text-align: right;\">\n",
       "      <th></th>\n",
       "      <th>ID</th>\n",
       "      <th>Price_Sold</th>\n",
       "      <th>Year_Sold</th>\n",
       "      <th>Zipcode</th>\n",
       "      <th>Mileage</th>\n",
       "      <th>Make</th>\n",
       "      <th>Model</th>\n",
       "      <th>Year</th>\n",
       "      <th>Trim</th>\n",
       "      <th>Engine_Type</th>\n",
       "      <th>Body_Type</th>\n",
       "      <th>Number_of_Cylinders</th>\n",
       "      <th>Drive_Type</th>\n",
       "    </tr>\n",
       "  </thead>\n",
       "  <tbody>\n",
       "    <tr>\n",
       "      <th>0</th>\n",
       "      <td>18489</td>\n",
       "      <td>2200</td>\n",
       "      <td>2019</td>\n",
       "      <td>32804</td>\n",
       "      <td>120583</td>\n",
       "      <td>300</td>\n",
       "      <td>CHRYSLER</td>\n",
       "      <td>2006</td>\n",
       "      <td>LIMITED</td>\n",
       "      <td>V-6</td>\n",
       "      <td>SEDAN</td>\n",
       "      <td>6</td>\n",
       "      <td>RWD</td>\n",
       "    </tr>\n",
       "    <tr>\n",
       "      <th>2</th>\n",
       "      <td>11937</td>\n",
       "      <td>13000</td>\n",
       "      <td>2019</td>\n",
       "      <td>89060</td>\n",
       "      <td>73000</td>\n",
       "      <td>1964 International</td>\n",
       "      <td>Scout 80</td>\n",
       "      <td>1964</td>\n",
       "      <td>NaN</td>\n",
       "      <td>stock</td>\n",
       "      <td>SUV</td>\n",
       "      <td>4</td>\n",
       "      <td>4WD</td>\n",
       "    </tr>\n",
       "    <tr>\n",
       "      <th>3</th>\n",
       "      <td>20524</td>\n",
       "      <td>98000</td>\n",
       "      <td>2019</td>\n",
       "      <td>70118</td>\n",
       "      <td>3568</td>\n",
       "      <td>AC</td>\n",
       "      <td>AUTOKRAFT MK IV</td>\n",
       "      <td>1988</td>\n",
       "      <td>AK1269 ALUMINUM BODY</td>\n",
       "      <td>302 HO</td>\n",
       "      <td>ALUMINUM</td>\n",
       "      <td>0</td>\n",
       "      <td>ROADSTER</td>\n",
       "    </tr>\n",
       "    <tr>\n",
       "      <th>5</th>\n",
       "      <td>85297</td>\n",
       "      <td>6760</td>\n",
       "      <td>2019</td>\n",
       "      <td>32256</td>\n",
       "      <td>90000</td>\n",
       "      <td>Acura</td>\n",
       "      <td>CL</td>\n",
       "      <td>2003</td>\n",
       "      <td>TYPE S</td>\n",
       "      <td>NaN</td>\n",
       "      <td>NaN</td>\n",
       "      <td>0</td>\n",
       "      <td>NaN</td>\n",
       "    </tr>\n",
       "    <tr>\n",
       "      <th>6</th>\n",
       "      <td>27620</td>\n",
       "      <td>4550</td>\n",
       "      <td>2019</td>\n",
       "      <td>44124</td>\n",
       "      <td>78196</td>\n",
       "      <td>Acura</td>\n",
       "      <td>CL</td>\n",
       "      <td>1999</td>\n",
       "      <td>NO RESERVE AUCTION - LAST HIGHEST BIDDER WINS ...</td>\n",
       "      <td>4cyl</td>\n",
       "      <td>Coupe</td>\n",
       "      <td>4</td>\n",
       "      <td>FWD</td>\n",
       "    </tr>\n",
       "  </tbody>\n",
       "</table>\n",
       "</div>"
      ],
      "text/plain": [
       "      ID  Price_Sold  Year_Sold Zipcode  Mileage                Make  \\\n",
       "0  18489        2200       2019   32804   120583                 300   \n",
       "2  11937       13000       2019   89060    73000  1964 International   \n",
       "3  20524       98000       2019   70118     3568                  AC   \n",
       "5  85297        6760       2019   32256    90000               Acura   \n",
       "6  27620        4550       2019   44124    78196               Acura   \n",
       "\n",
       "             Model  Year                                               Trim  \\\n",
       "0         CHRYSLER  2006                                            LIMITED   \n",
       "2         Scout 80  1964                                                NaN   \n",
       "3  AUTOKRAFT MK IV  1988                               AK1269 ALUMINUM BODY   \n",
       "5               CL  2003                                             TYPE S   \n",
       "6               CL  1999  NO RESERVE AUCTION - LAST HIGHEST BIDDER WINS ...   \n",
       "\n",
       "  Engine_Type Body_Type  Number_of_Cylinders Drive_Type  \n",
       "0         V-6     SEDAN                    6        RWD  \n",
       "2       stock       SUV                    4        4WD  \n",
       "3      302 HO  ALUMINUM                    0   ROADSTER  \n",
       "5         NaN       NaN                    0        NaN  \n",
       "6        4cyl     Coupe                    4        FWD  "
      ]
     },
     "execution_count": 9,
     "metadata": {},
     "output_type": "execute_result"
    }
   ],
   "source": [
    "#Drop null values of the 'Model' column\n",
    "\n",
    "new_used_car_predictions = used_car_predictions_df.dropna(subset=['Model'])\n",
    "\n",
    "new_used_car_predictions.head()"
   ]
  },
  {
   "cell_type": "code",
   "execution_count": 10,
   "id": "49524bff",
   "metadata": {},
   "outputs": [
    {
     "data": {
      "text/plain": [
       "22306"
      ]
     },
     "execution_count": 10,
     "metadata": {},
     "output_type": "execute_result"
    }
   ],
   "source": [
    "#Determine the number of different types of engines in dataset. \n",
    "\n",
    "engine_value_count = new_used_car_predictions['Engine_Type'].nunique()\n",
    "\n",
    "engine_value_count"
   ]
  },
  {
   "cell_type": "code",
   "execution_count": 11,
   "id": "e29e3e34",
   "metadata": {},
   "outputs": [
    {
     "data": {
      "text/plain": [
       "2310"
      ]
     },
     "execution_count": 11,
     "metadata": {},
     "output_type": "execute_result"
    }
   ],
   "source": [
    "#Determine the number of different body_types within our dataset.\n",
    "\n",
    "bodytype_value_count = new_used_car_predictions['Body_Type'].nunique()\n",
    "\n",
    "bodytype_value_count"
   ]
  },
  {
   "cell_type": "code",
   "execution_count": 12,
   "id": "a942cc24",
   "metadata": {},
   "outputs": [
    {
     "data": {
      "text/plain": [
       "Sedan                            18174\n",
       "Coupe                            17960\n",
       "SUV                              15334\n",
       "Convertible                      12261\n",
       "Standard Cab Pickup               4281\n",
       "                                 ...  \n",
       "Truck SUV convertible                1\n",
       "Hi-Top Van                           1\n",
       "4×4 removable hardtop pick up        1\n",
       "Handicap Shuttle Bus                 1\n",
       "Luxury Coupe                         1\n",
       "Name: Body_Type, Length: 2310, dtype: int64"
      ]
     },
     "metadata": {},
     "output_type": "display_data"
    }
   ],
   "source": [
    "name_counts = new_used_car_predictions['Body_Type'].value_counts()\n",
    "\n",
    "display(name_counts)"
   ]
  },
  {
   "cell_type": "code",
   "execution_count": 13,
   "id": "7cb16eb6",
   "metadata": {},
   "outputs": [],
   "source": [
    "pd.DataFrame(name_counts).to_csv('body_types')"
   ]
  },
  {
   "cell_type": "code",
   "execution_count": null,
   "id": "e3b78416",
   "metadata": {},
   "outputs": [],
   "source": []
  }
 ],
 "metadata": {
  "kernelspec": {
   "display_name": "Python 3 (ipykernel)",
   "language": "python",
   "name": "python3"
  },
  "language_info": {
   "codemirror_mode": {
    "name": "ipython",
    "version": 3
   },
   "file_extension": ".py",
   "mimetype": "text/x-python",
   "name": "python",
   "nbconvert_exporter": "python",
   "pygments_lexer": "ipython3",
   "version": "3.10.9"
  }
 },
 "nbformat": 4,
 "nbformat_minor": 5
}
